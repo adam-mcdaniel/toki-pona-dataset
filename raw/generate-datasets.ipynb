{
 "cells": [
  {
   "attachments": {},
   "cell_type": "markdown",
   "metadata": {},
   "source": [
    "# Generate Toki-Pona datasets\n",
    "\n",
    "This notebook consolidates the data in each of the different folders into a single dataset. It generates a file for sentence translations between Toki Pona, English, and optionally Chinese, a file for sentences in Toki Pona, and file containing entire documents in each language (if available)."
   ]
  },
  {
   "cell_type": "code",
   "execution_count": 50,
   "metadata": {},
   "outputs": [],
   "source": [
    "import pandas as pd\n",
    "from glob import glob\n",
    "import os"
   ]
  },
  {
   "cell_type": "code",
   "execution_count": 51,
   "metadata": {},
   "outputs": [],
   "source": [
    "CONTENT_TYPES = [\n",
    "    ENCYCLOPEDIA_ARTICLE := 'encyclopedia article',\n",
    "    BLOG_ARTICLE := 'blog article',\n",
    "    MAGAZINE := 'magazine',\n",
    "    BIBLE := 'biblical text',\n",
    "    STORY := 'story',\n",
    "    POEM := 'poem',\n",
    "    SCREENPLAY := 'screenplay',\n",
    "    BOOK := 'book',\n",
    "    CHAPTER := 'chapter',\n",
    "    ESSAY := 'essay',\n",
    "    CHAT := 'chat',\n",
    "    OTHER := 'other',\n",
    "]\n",
    "\n",
    "FORMATS = [\n",
    "    TEXT := 'text',\n",
    "    MARKDOWN := 'markdown',\n",
    "    IRC_LOG := 'irc log',\n",
    "]\n",
    "\n",
    "sentence_translations = pd.DataFrame(columns=['id', 'tok', 'eng', 'cmn'])\n",
    "sentences = pd.DataFrame(columns=['id', 'content_type', 'sentence'])\n",
    "documents = pd.DataFrame(columns=['id', 'name', 'content_type', 'tok', 'eng', 'cmn'])\n",
    "chapters = pd.DataFrame(columns=['id', 'name', 'chapter_number', 'content_type', 'tok', 'eng', 'cmn'])"
   ]
  },
  {
   "attachments": {},
   "cell_type": "markdown",
   "metadata": {},
   "source": [
    "## Sentence translations\n",
    "\n",
    "Go through the files in the `phrases` folder and generate a file containing the sentence translations. These files are:\n",
    "\n",
    "|File|Language|Description|Length|\n",
    "|----|--------|-----------|------|\n",
    "|`common.md`|Toki Pona and English|Common phrases and responses|~100 pairs|\n",
    "|`common2.tsv`|Toki Pona and English|Common sentences|~2000 pairs|\n",
    "|`tatoeba-dev.eng-toki.tsv`|Toki Pona and English|Some Tatoeba translations between Toki Pona and English ([from this dataset dated to 2021](https://huggingface.co/datasets/Helsinki-NLP/tatoeba_mt/blob/main/dev/tatoeba-dev.eng-toki.tsv))|~8000 pairs|\n",
    "|`tatoeba-test.eng-toki.tsv`|Toki Pona and English|Some Tatoeba translations between Toki Pona and English ([from this dataset dated to 2021](https://huggingface.co/datasets/Helsinki-NLP/tatoeba_mt/blob/main/test/tatoeba-test.eng-toki.tsv))|~5000 pairs|\n",
    "|`translations.tsv`|Toki Pona, English, and Chinese|Tatoeba translations between Toki Pona, English, and Chinese (dated 4/14/2023)|~33000 pairs|"
   ]
  },
  {
   "cell_type": "code",
   "execution_count": 52,
   "metadata": {},
   "outputs": [
    {
     "name": "stdout",
     "output_type": "stream",
     "text": [
      "1907 1907\n"
     ]
    }
   ],
   "source": [
    "f = open(os.path.expanduser(\"phrases/common2.tsv\"), \"r\", encoding=\"utf-8\")\n",
    "tsv = [line.strip().split(\"\\t\") for line in f]\n",
    "f.close()\n",
    "for tok, eng in tsv:\n",
    "    sentences.loc[len(sentences)] = [len(sentences), OTHER, tok]\n",
    "    sentence_translations.loc[len(sentence_translations)] = [len(sentence_translations), tok, eng, None]\n",
    "\n",
    "print(len(sentences), len(sentence_translations))"
   ]
  },
  {
   "cell_type": "code",
   "execution_count": 53,
   "metadata": {},
   "outputs": [
    {
     "name": "stdout",
     "output_type": "stream",
     "text": [
      "10609 10609\n"
     ]
    }
   ],
   "source": [
    "f = open(os.path.expanduser(\"phrases/tatoeba-dev.eng-toki.tsv\"), \"r\", encoding=\"utf-8\")\n",
    "tsv = [line.strip().split(\"\\t\") for line in f]\n",
    "f.close()\n",
    "for _, _, eng, tok in tsv:\n",
    "    sentences.loc[len(sentences)] = [len(sentences), OTHER, tok]\n",
    "    sentence_translations.loc[len(sentence_translations)] = [len(sentence_translations), tok, eng, None]\n",
    "\n",
    "print(len(sentences), len(sentence_translations))"
   ]
  },
  {
   "cell_type": "code",
   "execution_count": 54,
   "metadata": {},
   "outputs": [
    {
     "name": "stdout",
     "output_type": "stream",
     "text": [
      "15599 15599\n"
     ]
    }
   ],
   "source": [
    "f = open(os.path.expanduser(\"phrases/tatoeba-test.eng-toki.tsv\"), \"r\", encoding=\"utf-8\")\n",
    "tsv = [line.strip().split(\"\\t\") for line in f]\n",
    "f.close()\n",
    "for _, _, eng, tok in tsv:\n",
    "    sentences.loc[len(sentences)] = [len(sentences), OTHER, tok]\n",
    "    sentence_translations.loc[len(sentence_translations)] = [len(sentence_translations), tok, eng, None]\n",
    "\n",
    "print(len(sentences), len(sentence_translations))"
   ]
  },
  {
   "cell_type": "code",
   "execution_count": 55,
   "metadata": {},
   "outputs": [
    {
     "name": "stdout",
     "output_type": "stream",
     "text": [
      "48740 48740\n"
     ]
    }
   ],
   "source": [
    "f = open(os.path.expanduser(\"phrases/translations.tsv\"), \"r\", encoding=\"utf-8\")\n",
    "tsv = [line.strip().split(\"\\t\") for line in f]\n",
    "f.close()\n",
    "for row in tsv:\n",
    "    if len(row) == 4:\n",
    "        _, tok, eng, cmn = row\n",
    "    elif len(row) == 3:\n",
    "        _, tok, eng = row\n",
    "        cmn = None\n",
    "    if eng == '':\n",
    "        eng = None\n",
    "    if cmn == '':\n",
    "        cmn = None\n",
    "\n",
    "    sentences.loc[len(sentences)] = [len(sentences), OTHER, tok]\n",
    "    sentence_translations.loc[len(sentence_translations)] = [len(sentence_translations), tok, eng, cmn]\n",
    "\n",
    "print(len(sentences), len(sentence_translations))"
   ]
  },
  {
   "cell_type": "code",
   "execution_count": 56,
   "metadata": {},
   "outputs": [],
   "source": [
    "# Save the sentences and translations to a file.\n",
    "sentences.to_csv(os.path.expanduser(\"phrases/sentences.tsv\"), sep='\\t', index=False)\n",
    "sentence_translations.to_csv(os.path.expanduser(\"phrases/sentence_translations.tsv\"), sep='\\t', index=False)\n",
    "\n",
    "# Reload them and confirm that they are the same.\n",
    "sentences_copy = pd.read_csv(os.path.expanduser(\"phrases/sentences.tsv\"), sep='\\t')\n",
    "assert sentences.equals(sentences_copy)\n",
    "\n",
    "sentence_translations_copy = pd.read_csv(os.path.expanduser(\"phrases/sentence_translations.tsv\"), sep='\\t')\n",
    "assert sentence_translations.equals(sentence_translations_copy)"
   ]
  },
  {
   "attachments": {},
   "cell_type": "markdown",
   "metadata": {},
   "source": [
    "## Documents and translations\n",
    "\n",
    "Go through the files in each of the folders and add their entire contents to each field in the dataset. These files are in:\n",
    "\n",
    "|Folder|Language|Description|Length|\n",
    "|------|--------|-----------|------|\n",
    "|`articles`|Toki Pona and English|Articles from Lipu Kule|Unknown|\n",
    "|`chat`|Toki Pona and English|Chat logs from Unknown|Unknown|\n",
    "|`comments`|Toki Pona|Comments on blog posts and reviews of books|Unknown|\n",
    "|`dictionary`|Toki Pona and English|Toki Pona dictionary|Unknown|\n",
    "|`encyclopedia`|Toki Pona|Articles from Wikipesija. The name of the document is the subject of the article.|Unknown|\n",
    "|`magazines`|Toki Pona|Entire copies of Lipu Tenpo|Unknown|\n",
    "|`stories`|Toki Pona and English|Stories in Toki Pona and English.|Unknown|\n",
    "|`poems`|Toki Pona|Poems in Toki Pona.|Unknown|\n",
    "|`screenplays`|Toki Pona and English|Screenplays and their translations.|Unknown|"
   ]
  },
  {
   "cell_type": "code",
   "execution_count": 111,
   "metadata": {},
   "outputs": [
    {
     "name": "stdout",
     "output_type": "stream",
     "text": [
      "51\n"
     ]
    }
   ],
   "source": [
    "documents = pd.DataFrame(columns=['id', 'name', 'content_type', 'tok', 'eng', 'cmn'])\n",
    "def get_files(dir, ext):\n",
    "    # Get all the files in articles/tok/ and articles/eng/\n",
    "    tok_files = glob(os.path.expanduser(f\"{dir}/tok/*.{ext}\"))\n",
    "    eng_files = glob(os.path.expanduser(f\"{dir}/eng/*.{ext}\"))\n",
    "\n",
    "    # Strip the path and extension from the filenames\n",
    "    tok_files = [os.path.basename(f) for f in tok_files]\n",
    "    eng_files = [os.path.basename(f) for f in eng_files]\n",
    "\n",
    "    # Get the shared set of files\n",
    "    tok_files = set(tok_files)\n",
    "    eng_files = set(eng_files)\n",
    "    shared_files = tok_files.intersection(eng_files)\n",
    "\n",
    "    # Get the set of files that are only in tok/ or eng/\n",
    "    tok_only_files = tok_files.difference(eng_files)\n",
    "    eng_only_files = eng_files.difference(tok_files)\n",
    "\n",
    "    return shared_files, tok_only_files, eng_only_files\n",
    "\n",
    "shared_files, tok_only_files, eng_only_files = get_files(\"articles\", \"*\")\n",
    "\n",
    "# Get the shared files and save them in the documents table\n",
    "for f in shared_files:\n",
    "    tok = open(os.path.expanduser(f\"articles/tok/{f}\"), \"r\", encoding=\"utf-8\").read()\n",
    "    eng = open(os.path.expanduser(f\"articles/eng/{f}\"), \"r\", encoding=\"utf-8\").read()\n",
    "    if tok == '':\n",
    "        tok = None\n",
    "    if eng == '':\n",
    "        eng = None\n",
    "    documents.loc[len(documents)] = [len(documents), os.path.basename(f).replace('__', '_').replace('__', '_').replace('_', ' '), BLOG_ARTICLE, tok, eng, None]\n",
    "\n",
    "# Get the files that are only in tok/ and save them in the documents table\n",
    "for f in tok_only_files:\n",
    "    tok = open(os.path.expanduser(f\"articles/tok/{f}\"), \"r\", encoding=\"utf-8\").read()\n",
    "    if tok == '':\n",
    "        tok = None\n",
    "    documents.loc[len(documents)] = [len(documents), os.path.basename(f).replace('__', '_').replace('__', '_').replace('_', ' '), BLOG_ARTICLE, tok, None, None]\n",
    "\n",
    "print(len(documents))"
   ]
  },
  {
   "cell_type": "code",
   "execution_count": 112,
   "metadata": {},
   "outputs": [
    {
     "name": "stdout",
     "output_type": "stream",
     "text": [
      "106\n"
     ]
    }
   ],
   "source": [
    "shared_files, tok_only_files, eng_only_files = get_files(\"stories\", \"*\")\n",
    "\n",
    "# Get the shared files and save them in the documents table\n",
    "for f in shared_files:\n",
    "    tok = open(os.path.expanduser(f\"stories/tok/{f}\"), \"r\", encoding=\"utf-8\").read()\n",
    "    eng = open(os.path.expanduser(f\"stories/eng/{f}\"), \"r\", encoding=\"utf-8\").read()\n",
    "    if tok == '':\n",
    "        tok = None\n",
    "    if eng == '':\n",
    "        eng = None\n",
    "    documents.loc[len(documents)] = [len(documents), os.path.basename(f).replace('__', '_').replace('__', '_').replace('_', ' '), STORY, tok, eng, None]\n",
    "\n",
    "# Get the files that are only in tok/ and save them in the documents table\n",
    "for f in tok_only_files:\n",
    "    tok = open(os.path.expanduser(f\"stories/tok/{f}\"), \"r\", encoding=\"utf-8\").read()\n",
    "    if tok == '':\n",
    "        tok = None\n",
    "    documents.loc[len(documents)] = [len(documents), os.path.basename(f).replace('__', '_').replace('__', '_').replace('_', ' '), STORY, tok, None, None]\n",
    "\n",
    "print(len(documents))"
   ]
  },
  {
   "cell_type": "code",
   "execution_count": 113,
   "metadata": {},
   "outputs": [
    {
     "name": "stdout",
     "output_type": "stream",
     "text": [
      "188\n"
     ]
    }
   ],
   "source": [
    "shared_files, tok_only_files, eng_only_files = get_files(\"poems\", \"*\")\n",
    "\n",
    "# Get the shared files and save them in the documents table\n",
    "for f in shared_files:\n",
    "    tok = open(os.path.expanduser(f\"poems/tok/{f}\"), \"r\", encoding=\"utf-8\").read()\n",
    "    eng = open(os.path.expanduser(f\"poems/eng/{f}\"), \"r\", encoding=\"utf-8\").read()\n",
    "    if tok == '':\n",
    "        tok = None\n",
    "    if eng == '':\n",
    "        eng = None\n",
    "    documents.loc[len(documents)] = [len(documents), os.path.basename(f).replace('__', '_').replace('__', '_').replace('_', ' '), POEM, tok, eng, None]\n",
    "\n",
    "# Get the files that are only in tok/ and save them in the documents table\n",
    "for f in tok_only_files:\n",
    "    tok = open(os.path.expanduser(f\"poems/tok/{f}\"), \"r\", encoding=\"utf-8\").read()\n",
    "    if tok == '':\n",
    "        tok = None\n",
    "    documents.loc[len(documents)] = [len(documents), os.path.basename(f).replace('__', '_').replace('__', '_').replace('_', ' '), POEM, tok, None, None]\n",
    "\n",
    "print(len(documents))"
   ]
  },
  {
   "cell_type": "code",
   "execution_count": 114,
   "metadata": {},
   "outputs": [
    {
     "name": "stdout",
     "output_type": "stream",
     "text": [
      "189\n"
     ]
    }
   ],
   "source": [
    "shared_files, tok_only_files, eng_only_files = get_files(\"screenplays\", \"*\")\n",
    "\n",
    "# Get the shared files and save them in the documents table\n",
    "for f in shared_files:\n",
    "    tok = open(os.path.expanduser(f\"screenplays/tok/{f}\"), \"r\", encoding=\"utf-8\").read()\n",
    "    eng = open(os.path.expanduser(f\"screenplays/eng/{f}\"), \"r\", encoding=\"utf-8\").read()\n",
    "    if tok == '':\n",
    "        tok = None\n",
    "    if eng == '':\n",
    "        eng = None\n",
    "    documents.loc[len(documents)] = [len(documents), os.path.basename(f).replace('__', '_').replace('__', '_').replace('_', ' '), SCREENPLAY, tok, eng, None]\n",
    "\n",
    "# Get the files that are only in tok/ and save them in the documents table\n",
    "for f in tok_only_files:\n",
    "    tok = open(os.path.expanduser(f\"screenplays/tok/{f}\"), \"r\", encoding=\"utf-8\").read()\n",
    "    if tok == '':\n",
    "        tok = None\n",
    "    documents.loc[len(documents)] = [len(documents), os.path.basename(f).replace('__', '_').replace('__', '_').replace('_', ' '), SCREENPLAY, tok, None, None]\n",
    "\n",
    "print(len(documents))"
   ]
  },
  {
   "cell_type": "code",
   "execution_count": 115,
   "metadata": {},
   "outputs": [
    {
     "name": "stdout",
     "output_type": "stream",
     "text": [
      "548\n"
     ]
    }
   ],
   "source": [
    "shared_files, tok_only_files, eng_only_files = get_files(\"encyclopedia\", \"*\")\n",
    "\n",
    "# Get the shared files and save them in the documents table\n",
    "for f in shared_files:\n",
    "    tok = open(os.path.expanduser(f\"encyclopedia/tok/{f}\"), \"r\", encoding=\"utf-8\").read()\n",
    "    eng = open(os.path.expanduser(f\"encyclopedia/eng/{f}\"), \"r\", encoding=\"utf-8\").read()\n",
    "    if tok == '':\n",
    "        tok = None\n",
    "    if eng == '':\n",
    "        eng = None\n",
    "    documents.loc[len(documents)] = [len(documents), os.path.basename(f).replace('__', '_').replace('__', '_').replace('_', ' '), ENCYCLOPEDIA_ARTICLE, tok, eng, None]\n",
    "\n",
    "# Get the files that are only in tok/ and save them in the documents table\n",
    "for f in tok_only_files:\n",
    "    tok = open(os.path.expanduser(f\"encyclopedia/tok/{f}\"), \"r\", encoding=\"utf-8\").read()\n",
    "    if tok == '':\n",
    "        tok = None\n",
    "    documents.loc[len(documents)] = [len(documents), os.path.basename(f).replace('__', '_').replace('__', '_').replace('_', ' '), ENCYCLOPEDIA_ARTICLE, tok, None, None]\n",
    "\n",
    "print(len(documents))"
   ]
  },
  {
   "cell_type": "code",
   "execution_count": 116,
   "metadata": {},
   "outputs": [
    {
     "name": "stdout",
     "output_type": "stream",
     "text": [
      "589\n"
     ]
    }
   ],
   "source": [
    "shared_files, tok_only_files, eng_only_files = get_files(\"chat\", \"*\")\n",
    "\n",
    "# Get the shared files and save them in the documents table\n",
    "for f in shared_files:\n",
    "    tok = open(os.path.expanduser(f\"chat/tok/{f}\"), \"r\", encoding=\"utf-8\").read()\n",
    "    eng = open(os.path.expanduser(f\"chat/eng/{f}\"), \"r\", encoding=\"utf-8\").read()\n",
    "    if tok == '':\n",
    "        tok = None\n",
    "    if eng == '':\n",
    "        eng = None\n",
    "    documents.loc[len(documents)] = [len(documents), os.path.basename(f).replace('__', '_').replace('__', '_').replace('_', ' '), CHAT, tok, eng, None]\n",
    "\n",
    "# Get the files that are only in tok/ and save them in the documents table\n",
    "for f in tok_only_files:\n",
    "    tok = open(os.path.expanduser(f\"chat/tok/{f}\"), \"r\", encoding=\"utf-8\").read()\n",
    "    if tok == '':\n",
    "        tok = None\n",
    "    documents.loc[len(documents)] = [len(documents), os.path.basename(f).replace('__', '_').replace('__', '_').replace('_', ' '), CHAT, tok, None, None]\n",
    "\n",
    "print(len(documents))"
   ]
  },
  {
   "cell_type": "code",
   "execution_count": 127,
   "metadata": {},
   "outputs": [
    {
     "name": "stdout",
     "output_type": "stream",
     "text": [
      "sermon.txt\n",
      "jan Jesu li lukin e kulupu li tawa sewi nena li anpa e monsi ona. jan ona li kama tawa poka ona. jan Jesu li pana e sona tawa jan. ona li toki e ni:\n",
      "jan mute li sona e ni: insa mi li ike. jan ni li pona. lawa pi jan sewi Jawe li pi ona.\n",
      "jan mute li pilin ike. jan sewi Jawe li pona e pilin ona.\n",
      "jan mute li sona e ni: mi anpa. jan ni li kama jo e ma tan jan sewi Jawe.\n",
      "jan mute li wile pona. jan sewi Jawe li pona mute tawa jan ni.\n",
      "jan mute li pona tawa jan ante la jan ni li pona. pali ike ante pi jan ni li lili tawa jan sewi Jawe.\n",
      "jan mute li wile ala sona e ike. jan ni li lon poka pi jan sewi Jawe.\n",
      "jan mute li wile pini e utala. jan ni li jan lili pi jan sewi Jawe.\n",
      "jan mute li pona. taso jan ike li pakala e jan pona ni. lawa pi jan sewi Jawe li pi jan pona ni.\n",
      "jan li ike tawa sina. ona li toki e ijo ike tawa sina tan ni: sina sona e mi. taso sina pona mute. o pilin pona. o pilin pona mute tan ni: ijo pona li pi sina lon ma sewi. tenpo pini la jan mute li ike tawa jan pona ante.\n",
      "sina suwi tawa jan ali. taso suwi li weka la sina ken ala sin e ona. suwi li weka la sina ken ala kepeken e ona. jan li pana e ona tawa nasin lon anpa pi noka jan.\n",
      "sina suno. jan pi ma ali li lukin e sina. sina ma tomo lon sewi nena.\n",
      "jan li pana ala e suno lon anpa poki. ona li pana e ona lon palisa suli. ona li suno e tomo.\n",
      "sama la sina suno tawa jan ali. sina pona la jan ante li lukin e sina li toki e ni: jan sewi Jawe li pona.\n",
      "mi wile ala pakala e lawa Moses e sona pi jan toki sona. mi wile ala pakala e sona ona. mi wile lon e ona. ma sewi en ma ni li lon la lawa sewi ali li awen. ali li pini la lawa sewi li pini kin.\n",
      "ken la sina pali ala e ijo lili pi lawa sewi. ken la sina toki e ni tawa jan ante: o pali ala e ijo lili pi lawa sewi. sina toki e ni la sina lili lon ma sewi. taso sina pali e ijo ali pi lawa sewi li pana e sona pi lawa sewi tawa jan ante la sina suli lon ma sewi.\n",
      "mi toki e ni tawa sina: jan sona pi lawa sewi en jan Palisi li pali e ijo pi lawa sewi. taso sina wile tawa ma sewi la sina wile pali mute e ijo pi lawa sewi.\n",
      "sina kute e ni: o moli ala e jan. sina moli e jan la jan sewi Jawe li ken pakala e sina.\n",
      "taso mi toki e ni tawa sina: o pilin ala utala. sina pilin utala la jan sewi Jawe li ken pakala e sina. sina toki e ijo ike tawa jan la kulupu lawa li ken pakala e sina. o toki ala e ni: ona li nasa. sina toki e ni la sina ken tawa ma anpa seli ike.\n",
      "ken la sina lon tomo sewi li wile pana e ijo pona tawa jan sewi Jawe. taso sina sona e ni: sina ike tawa jan ante. o awen e ijo pona sina lon tomo sewi. o tawa jan ante ni. sina pona tawa jan ante la o kama sin tawa tomo sewi. tenpo ni la sina ken pana e ijo pona sina tawa jan sewi Jawe.\n",
      "jan li wile kama e sina tawa kulupu lawa la o pona tawa jan ni. tenpo lili la sina wile pona mute tawa ona. sina ken ala la jan sona lawa li pana e sina tawa jan wawa lawa. jan wawa lawa li awen e sina lon tomo awen ike. sina pana ala e mani ali la sina ken ala tawa tan tomo awen.\n",
      "sina kute e ni: o unpa ala ike.\n",
      "taso mi toki e ni tawa sina: mije li lukin e meli li wile unpa ike e ona la mije ni li ike.\n",
      "oko sina li kama e ike sina la o weka e ona. sina jo ala e oko. taso sina ike la sijelo ali sina li tawa ma anpa ike.\n",
      "luka sina li kama e ike sina la o weka e ona. sina jo ala e luka. taso sina ike la sijelo ali sina li tawa ma anpa ike.\n",
      "tenpo pini la jan li toki e ni: sina wile ala e meli sina la o pana e lipu pi wile weka tawa ona.\n",
      "taso mi toki e ni tawa sina: meli li unpa ike la mije ona li ken weka tan ona. taso mije li weka tan meli ona tan ijo ante la mije ni li kama e ike unpa. meli li weka tan mije ona la o jo ala e meli ni. sina unpa e ona la sina ike.\n",
      "sina kute e ni: sina toki e ijo la o lon e ona. sina toki e ijo tawa jan sewi Jawe la sina wile lon e ona.\n",
      "taso mi toki e ni tawa sina: sina toki e ijo la o kepeken ala e toki wawa. o toki ala wawa kepeken ma sewi. ma sewi li pi jan sewi Jawe. o toki ala wawa kepeken ma. ma li pi jan sewi Jawe. o toki ala wawa kepeken ma tomo Selusalen. ona li pi jan sewi Jawe.\n",
      "o toki ala wawa kepeken sijelo sina. sina ken ala ante e kule pi linja lawa sina.\n",
      "o toki e nimi pona anu ala taso. toki namako li tan jan Setan ike.\n",
      "sina kute e ni: jan li weka e oko pi jan ante la o weka e oko ona. jan li weka e kiwen uta walo pi jan ante la o weka e kiwen uta walo ona.\n",
      "taso mi toki e ni tawa sina: jan li wile pakala e sina la o utala ala e ona. ona li utala e luka wan la o pana e luka ante sina.\n",
      "jan li wile kama jo ike e len sina la o pana e len tu.\n",
      "jan utala li kama ike e ni: sina wile jo e poki suli ona lon nasin wan. taso o jo e ona lon nasin tu.\n",
      "jan li wile e ijo la o pana.\n",
      "sina kute e ni: o pona tawa jan pona sina. o ike tawa jan ike sina.\n",
      "taso mi toki e ni tawa sina: o pona tawa jan ike sina. jan li ike tawa sina la o wile e pona tawa ona. sina ken la sina sama mama sina lon ma sewi.\n",
      "ona li kama e ni: suno li sewi. jan pona en jan ike li ken lukin e sina. ona li kama e ni: telo li kama anpa tan sewi. jan pona en jan ike li ken pilin e ona.\n",
      "sina pona tawa jan pona sina la jan sewi Jawe li wile pana e ijo pona tawa sina tan seme? jan pi jo mani ike li pona kin tawa jan pona ona.\n",
      "jan ali li pona tawa jan pona ona. jan mute li sona ala e jan sewi Jawe. taso jan ni li pona tawa jan pona ona.\n",
      "mi toki e ni: sina wile pona. o pona sama mama sina lon ma sewi.\n",
      "o kute! sina pali e ijo pona la o kama e ni: jan ante li ken ala lukin e sina. jan li lukin e sina la mama sina li pana ala e ijo pona tawa sina lon ma sewi.\n",
      "sina pana e mani tawa jan pi mani ala la o toki ala. jan mute li pana e mani la ona li kalama mute. ona li wile e ni: jan ali li lukin. ona li wile e toki pona tan jan ali.\n",
      "sina pana tawa jan pi mani ala la o kama e ni: jan ante li sona ala.\n",
      "mama sina li ken lukin li pona tawa sina.\n",
      "sina toki tawa jan sewi Jawe la o toki ala wawa. jan mute li toki wawa tawa jan sewi Jawe lon nasin en lon tomo sewi. ona li wile e ni: jan li kute e ona.\n",
      "sina toki tawa jan sewi Jawe la o tawa tomo sina. o pini e lupa. jan sewi Jawe li lon. ona li ken kute li pona tawa sina.\n",
      "sina toki tawa jan sewi Jawe la o toki ala sama jan pi nasin ante. ona li toki mute e ijo sama. ona li pilin e ni: mi toki mute e ijo sama la jan sewi li kute e mi.\n",
      "o sama ala ona. mama sina li sona e wile sina.\n",
      "o toki sama ni:mama mi o, sina lon ma sewi.nimi sina o sewi.\n",
      "lawa sina o kama.sina wile e ijo la ona o lon. ona o lon ma ni en ma sewi.\n",
      "o pana e moku pi tenpo suno ni tawa mi.\n",
      "ike mi o lili tawa sina. sama la ike pi jan ante li lili tawa mi.\n",
      "mi o wile ala ike. o weka e mi tan jan Setan ike.\n",
      "kin. ike pi jan ante li lili tawa sina la ike sina li lili tawa jan sewi Jawe. taso ike pi jan ante li suli tawa sina la ike sina li suli tawa jan sewi Jawe.\n",
      "sina moku ala la o pona lukin. jan pi nasin ike li wile ike lukin. ona li wile e ni: jan li sona e ni: ona li moku ala.\n",
      "sina moku ala la o telo e sinpin sina. o pona lukin. jan ala li sona e ni: sina moku ala. taso mama sina li sona li pona tawa ni.\n",
      "o jo ala e ijo pona lon ma ni. pipi en jaki li pakala e ijo sina. jan li ken kama jo ike e ijo sina tan tomo sina.\n",
      "o jo e ijo pona lon ma sewi. pipi en jaki li ken ala pakala e ijo sina. jan li ken ala kama jo ike e ijo sina tan tomo sina.\n",
      "kon sina li lon poka pi ijo sina.\n",
      "suno li kama tawa sijelo tan oko. oko sina li pona la sijelo sina li suno mute.\n",
      "taso oko sina li ike la sijelo sina li pimeja. suno sina li kama pimeja la pimeja ni li pimeja kin.\n",
      "sina ken ala jo e jan lawa tu. sina kama pilin e ni: jan lawa ni li pona. taso jan lawa ante li ike. sina ken ala pali tawa jan sewi Jawe en tawa mani.\n",
      "mi toki tawa sina: sina wile e moku e len. taso o pilin ala ike tan ni. lon sina li suli. moku li lili. sijelo li suli. len li lili.\n",
      "o lukin e waso. ona li pali ala e kasi lon ma. taso mama sewi sina li pana e moku tawa ona. waso li lili. taso sina suli kin tawa jan sewi Jawe. pilin ike li pona ala tawa sina.\n",
      "sina pilin ike tan ni: sina wile e len. taso tan seme? o lukin e kasi kule ni. ona li pali ala. ona li pali ala e len. taso jan lawa Solomon li jo ala e len pona sama len pi kasi kule ni.\n",
      "ni li kasi taso. tenpo kama lili la jan li seli e ona. taso jan sewi Jawe li pali kin e len pi pona lukin tawa kasi ni. ona li pali e len tawa kasi la ona li pali e len pona tawa sina. sina sona ala e pona pi jan sewi Jawe!\n",
      "o toki ala e ni: moku mi li kama tan seme? en len mi? jan pi nasin ante li toki e ni. ali li pona. mama sewi sina li sona e wile sina.\n",
      "o wile e ni: jan sewi Jawe li lawa. sina wile e ni la ona li pana e ijo ante ni ali tawa sina.\n",
      "o pilin ala ike tan ijo pi tenpo suno kama. o lukin taso e tenpo suno ni. tenpo suno kama la o lukin e tenpo suno kama.\n",
      "ike pi jan ante li lili tawa sina la ike sina li lili tawa jan sewi Jawe. taso ike pi jan ante li suli tawa sina la ike sina li suli tawa jan sewi Jawe.\n",
      "sina lukin e jaki lili lon oko pi jan ante. taso sina pilin ala e palisa suli lon oko sina. tan seme? palisa suli li lon oko sina la o toki ala e ni tawa jan ante: mi wile weka e jaki lili ni tan oko sina. sina ike! o weka e palisa suli tan oko sina. sina weka e ona la sina ken lukin pona li ken weka e jaki lili tan oko pi jan ante.\n",
      "o pana ala e ijo sewi tawa soweli. ona li utala e sina. o pana ala e ijo pona tawa soweli. noka jaki ona li lon ijo sina.\n",
      "sina wile la sina jo. sina alasa la sina lukin. sina kalama la lupa li open.\n",
      "jan li toki e wile ona la ona li kama jo. jan li alasa la ona li lukin. jan li kalama la lupa li open.\n",
      "sina jo ala jo e jan lili? ona li wile e pan la sina pana ala pana e kiwen? ona li wile e kala la sina pana ala pana e akesi? ala!\n",
      "sina ike. taso sina pana e ijo pona tawa jan lili sina. jan sewi Jawe li pana mute kin e ijo pona tawa jan ona.\n",
      "sina wile e ijo tan jan ante la o pana e ni tawa jan ante. lawa Mose en jan toki sona li toki e ni.\n",
      "o kepeken e lupa lili. lupa suli en nasin mute li tawa ma anpa ike. jan mute li lon nasin ni.\n",
      "taso lupa pona li lili. sina tawa lon nasin pona la ijo mute li wile pini e sina. jan mute li ken ala tawa lon nasin pona.\n",
      "jan toki sona ike li lon. ona li sama soweli pona. taso ona li soweli utala ike.\n",
      "sina lukin e pali pi jan ni la sina sona e jan ni. ijo pona li kama ala tan jan ike. sama la kili pona li kama ala tan kasi ike.\n",
      "kasi pona li pana e kili pona. kasi ike li pana e kili ike.\n",
      "kasi pona li ken ala pana e kili ike. kasi ike li ken ala pana e kili pona.\n",
      "jan li anpa e kasi ike li seli e ona.\n",
      "sina lukin e pali pi jan ike ni la sina sona e ni: jan ni li ike.\n",
      "jan mute li toki e ni: mi jan lawa. taso sina wile tawa ma sewi la o pona tawa jan sewi Jawe.\n",
      "tenpo suno pi nanpa pini la jan mute li toki e ni tawa mi: jan lawa o a! mi mute li weka e kon ike li pali e ijo pona mute!\n",
      "mi toki e ni tawa ona: mi sona ala e sina. sina ike. o tawa weka tan mi!\n",
      "sina kute e toki mi li pona la sina sama jan sona. jan sona li pali e tomo ona lon kiwen. telo mute li kama tan sewi. telo mute li lon. kon wawa li lon. taso tomo pi jan sona ni li lon kiwen li awen.\n",
      "sina kute e toki mi li ike la sina sama jan nasa. jan nasa li pali e tomo ona lon ma pi wawa lili. telo mute li kama tan sewi. telo mute li lon. kon wawa li lon. tomo pi jan nasa li anpa. anpa kin a!\n",
      "Jesus saw a crowd, went to the hilltop, and lowered his backside. His people came to his side. Jesus gave knowledge to the people. He said this:\n",
      "Some people know this: My spirit is bad. These people are good. The authority of Yahweh [henceforth rendered God] is theirs.\n",
      "Some people feel bad. God will improve their feelings.\n",
      "Some people know this: I'm lowly. These people will get land from God.\n",
      "Some people want to be good. God will be very good to these people.\n",
      "When some people are good to other people, these people are good. Other bad deeds of these people will be unimportant to God.\n",
      "Some people don't want to know evil. These people are at the side of God.\n",
      "Some people want to end violence. These people are the children of God.\n",
      "Some people are good, but bad people destroy these good people. The authority of God is of these good people.\n",
      "People will be evil to you. They'll say bad things to you because of this: You know me. But you are very good. Feel good. Feel good because of this: Something good is yours in Heaven. In the past, many people were bad to other good people.\n",
      "You are sweet to all people. But if the sweetness is gone, you can't restore it. If the sweetness is gone, you can't use it. People will send it to the street underneath peoples feet.\n",
      "You are light. People of all lands see you. You are a city on a hilltop.\n",
      "People don't put a light underneath a bowl. They put it on a big stick. It lights the house.\n",
      "Similarly, you're a light to other people. If you're good, other people see you and say this: God is good.\n",
      "I don't want to destroy Mosaic law or the wisdom of the wise speakers. I don't want to destroy their wisdom. I want to make it real. If heaven and this earth exist, then all holy laws continue. When everything is finished, the holy law [henceforth rendered the Law] will be finished, too.\n",
      "Maybe you don't do the little things of the Law. Maybe you say this to other people: Don't do the little things of the Law. If you say this, you are little in Heaven. But if you do everything of the Law and teach the Law to other people, you are big in Heaven.\n",
      "I say this to you: The scholars of the Law and the Pharisees do the things of the Law. But if you want to go to Heaven, you must really do the things of the Law.\n",
      "You hear this: Don't kill people. If you kill people, God may destroy you.\n",
      "But I say this to you: Don't feel violent. If you feel violent, God may destroy you. If you say bad things to people, the authority-group [henceforth rendered court] may destroy you. Don't say, He's stupid. If you say this, you may go to the evil, hot underworld.\n",
      "Maybe you're in the temple and want to give something good to God. But you know this: You're bad to someone else. Leave your good thing in the temple. Go to this other person. When you are good to this other person, come again to the temple. Now you can give your good thing to God.\n",
      "If someone wants to bring you to court, be good to this person. In a short time, you must be very good to him. If you can't, the leading scholar will send you to the leading strongman. The strongman will hold you in a bad holding room. If you don't give all the money, you can't go from the holding room.\n",
      "You hear this: Don't have sex evilly.\n",
      "But I say this to you: If a man sees a woman and wants to have sex evilly with her, then this man is bad.\n",
      "If your eye causes your evil, then remove it. You won't have an eye. But if you're bad, your whole body will go to the evil underworld.\n",
      "If your hand causes your evil, then remove it. You won't have an hand. But if you're bad, your whole body will go to the evil underworld.\n",
      "In the past, someone said this: If you don't want your woman, give a letter of separation desire to her.\n",
      "But I say this to you: If a woman has sex evilly, her man can separate from her. But if a man separates from his woman for other things, this man is causing sexual evil. If a woman is separated from her man, don't have this woman. If you have sex with her, you are bad.\n",
      "You hear this: If you say something, make it real. If you say something to God, you must make it real.\n",
      "But I say this to you: If you say something, don't use intense speach. Don't speak intensely using Heaven. Heaven is God's. Don't speak intensely using the Earth. The Earth is God's. Don't speak intensely using Jerusalem. It is God's.\n",
      "Don't speak intensely using your body. You can't change the color of your hair.\n",
      "Say the words okay or no only. Superfluous speech comes from the evil Satan.\n",
      "You hear this: If someone removes the eye of another person, remove his eye. If someone removes the tooth of another person, remove his tooth.\n",
      "But I say this to you: If someone wants to destroy you, don't fight him. If he hits one arm, give your other arm.\n",
      "If someone wants to badly acquire your shirt, give two shirts.\n",
      "A soldier evilly causes this: You must hold his big bag on one road. But hold it on two roads.\n",
      "If somebody wants something, give.\n",
      "You hear this: Be good to your friends. Be bad to your enemies.\n",
      "But I say this to you: Be good to your enemies. If someone is bad to you, want goodness for him. If you can, youll be like your Father in Heaven.\n",
      "He causes this: The sun rises. Good people and bad people can see it. He causes this: Water comes down from above. Good people and bad people can feel it.\n",
      "If you are good to your friends, God would want to give your something good for what? People who badly possess money are also good to their friends.\n",
      "Everybody is good to his friends. Many people don't know God. But these people are good to their friends.\n",
      "I'm saying this: You must be good. Be good like your Father in Heaven.\n",
      "Listen! If you do something good, cause this: Other people can't see you. If people see, your Father won't give good things to you in Heaven.\n",
      "If you give money to people with no money, don't speak. When many people give money, they make a lot of noise. They want this: Everyone sees. They want praise from everyone.\n",
      "If you give to people with no money, cause this: Other people don't know.\n",
      "Your Father can see and will be good to you.\n",
      "When you talk to God, don't talk energetically. Many people talk energetically to God in the street and in the synagogue. They want this: People hear them.\n",
      "When you talk to God, go to your house. Close the door. God is there. He can hear and will be good to you.\n",
      "When you talk to God, don't talk like people of other religions. They say much the same things. They think this: If I say much the same things, god will hear me.\n",
      "Don't be like them. Your Father knows your needs.\n",
      "Talk like this:My Father, You are in Heaven.May your name be holy.\n",
      "May your authority come.If you want something, may it be. May it be in this world and in Heaven.\n",
      "Give the food of today to me.\n",
      "May my evil be unimportant to you. Likewise the evil of other people is unimportant to me.\n",
      "May I not want to be evil. Remove me from the evil Satan.\n",
      "Indeed. If the evil of other people is unimportant to you, then your evil will be unimportant to God. But if the evil of other people is important to you, then your evil will be important to God.\n",
      "If you don't eat, be good-looking. People of bad faith want to be bad-looking. They want this: People know this: They arent eating.\n",
      "When you don't eat, wash your face. Be good-looking. Nobody knows this: You're not eating. But your Father knows and will be good to you.\n",
      "Don't have good things on this Earth. Bugs and filth will destroy your things. People may evilly acquire your things from your house.\n",
      "Have good things in Heaven. Bugs and filth can't destroy your things. People can't evilly acquire your things from your house.\n",
      "Your spirit is beside your things.\n",
      "Light comes to the body via the eye. If your eye is good, your body will be very lit.[I based the translation of this verse on other, more literal translations of Jesus words. The ESV, for example, reads, The eye is the lamp of the body. So, if your eye is healthy, your whole body will be full of light {...}]\n",
      "But if your eye is bad, your body is dark. If your light becomes dark, this darkness is dark indeed.\n",
      "You can't have two leaders. Youll come to think this: This leader is good. But the other leader is bad. You can't work for God and for money.\n",
      "I say this: You need food and clothing. But don't feel bad because of this. Your existence is big. Food is little. The body is big. Clothing is little.\n",
      "Look at the birds. They don't make the plants on the earth. But your heavenly Father gives food to them. Birds are minor. You are truly important to God. Bad feelings arent good for you.\n",
      "You feel bad because of this: You need clothes. But why? Look at this colorful plant. It doesnt work. It doesnt make clothes. But King Solomon didnt have good clothes like the clothes of this flower.\n",
      "This is just a plant. Soon somebody will burn it. But God still made good-looking clothes for this plant. If he makes clothes for a plant, hell make great clothes for you. You don't understand the greatness of God!\n",
      "Don't say this: My food will come from where? And my clothes? People of other religions say that. Your Heavenly Father knows your needs.\n",
      "Want this: God rules. If you want this, hell give all these other things to you.\n",
      "Don't feel bad because of the things of tomorrow. Just look at today. Tomorrow look at tomorrow.\n",
      "If the evil of other people is minor to you, then your evil will be minor to God. But if the evil of other people is major to you, your evil will be major to God.\n",
      "You see a little dirt in the eye of someone else. But you don't feel the big stick in your eye. Why? If a big stick is in your eye, don't say this to other people: I want to remove that little dirt from your eye. You're bad! Remove the big stick from your eye. Once you remove it, you can see well and can remove the little dirt from the eye of the other person.\n",
      "Don't give holy things to beasts. They will attack you. Don't give good things to animals. Their dirty feet will be on your things.\n",
      "If you want, you will have. If you hunt, you will see. If you make noise, a door will open.\n",
      "If someone speaks his desire, he will obtain. If someone hunts, he will see. If someone makes noise, a door will open.\n",
      "Do you have children? If they want bread, do you give them a rock? If they want fish, do you give them a reptile? No!\n",
      "You're bad. But you give good things to your children. God really gives abundantly to his people.\n",
      "If you want something other people, give that to other people. Mosaic Law and the wise speakers say this.\n",
      "Use the small door. A big door and many roads go to Hell. Many people are on those roads.\n",
      "But the good door is small. If you travel on the good road, many things want to stop you. Many people can't travel on the good road.\n",
      "Evil wise speakers exist. They're like good animals. But they're bad violent animals.\n",
      "If you look at the deeds of these people, you will understand these people. Good things don't from bad people. Likewise good fruit doesnt come from bad trees.\n",
      "A good tree gives good fruit. A bad tree gives bad fruit.\n",
      "A good tree can't give bad fruit. A bad tree can't give good fruit.\n",
      "People cut down bad trees and burn them.\n",
      "If you see the deeds of these bad people, you will understand this: These people are bad.\n",
      "Many people say this: I am Lord. But if you want to go to Heaven, be good to God.\n",
      "On the final day, many people will say this to me: O Lord! We removed evil spirits and did many good things!\n",
      "I say this to them: I don't know you. You're bad. Go away from me!\n",
      "If you hear my speech and are good, you're like a wise man. A wise man builds his house on a rock. Much water comes from above. Much water is present. A strong wind is present. But the house of the wise man is on a rock and remains.\n",
      "If you hear my speech and are bad, you're like a foolish man. The foolish man builds his house on weak ground. Much water comes from above. Much water is present. A strong wind is present. The house of the foolish man falls. Oh what a fall!\n"
     ]
    }
   ],
   "source": [
    "# Save the sentences and translations to a file.\n",
    "documents.to_csv(os.path.expanduser(\"documents.tsv\"), sep='\\t', index=False)\n",
    "\n",
    "# Reload them and confirm that they are the same.\n",
    "documents_copy = pd.read_csv(os.path.expanduser(\"documents.tsv\"), sep='\\t', dtype={'id': 'int64', 'name': str, 'content_type': str, 'tok': str, 'eng': str, 'cmn': str if not pd.isnull('cmn') else None})\n",
    "pd.testing.assert_frame_equal(documents, documents_copy, check_dtype=True)\n",
    "\n",
    "\n",
    "# Find a story with an English translation\n",
    "story = documents[(documents['content_type'] == STORY) & (documents['eng'].notnull())].sample(1).iloc[0]\n",
    "print(story['name'])\n",
    "print(story['tok'])\n",
    "print(story['eng'])"
   ]
  }
 ],
 "metadata": {
  "kernelspec": {
   "display_name": "Python 3",
   "language": "python",
   "name": "python3"
  },
  "language_info": {
   "codemirror_mode": {
    "name": "ipython",
    "version": 3
   },
   "file_extension": ".py",
   "mimetype": "text/x-python",
   "name": "python",
   "nbconvert_exporter": "python",
   "pygments_lexer": "ipython3",
   "version": "3.11.2"
  },
  "orig_nbformat": 4
 },
 "nbformat": 4,
 "nbformat_minor": 2
}
